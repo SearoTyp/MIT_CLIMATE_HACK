{
 "cells": [
  {
   "cell_type": "code",
   "execution_count": 8,
   "metadata": {},
   "outputs": [],
   "source": [
    "import pandas as pd\n",
    "import numpy as np\n",
    "import matplotlib.pyplot as plt\n",
    "import seaborn as sns"
   ]
  },
  {
   "cell_type": "code",
   "execution_count": 2,
   "metadata": {},
   "outputs": [],
   "source": [
    "valentino = pd.read_csv('data/valentino.csv')\n",
    "mantero = pd.read_csv('data/mantero.csv')\n",
    "ventus_village = pd.read_csv('data/ventus_village.csv')\n",
    "howling_gale = pd.read_csv('data/howling_gale.csv')\n",
    "salmon_valley = pd.read_csv('data/salmon_valley.csv')"
   ]
  },
  {
   "cell_type": "code",
   "execution_count": null,
   "metadata": {},
   "outputs": [
    {
     "data": {
      "text/html": [
       "<div>\n",
       "<style scoped>\n",
       "    .dataframe tbody tr th:only-of-type {\n",
       "        vertical-align: middle;\n",
       "    }\n",
       "\n",
       "    .dataframe tbody tr th {\n",
       "        vertical-align: top;\n",
       "    }\n",
       "\n",
       "    .dataframe thead th {\n",
       "        text-align: right;\n",
       "    }\n",
       "</style>\n",
       "<table border=\"1\" class=\"dataframe\">\n",
       "  <thead>\n",
       "    <tr style=\"text-align: right;\">\n",
       "      <th></th>\n",
       "      <th>Timestamp</th>\n",
       "      <th>Year</th>\n",
       "      <th>Month</th>\n",
       "      <th>Day</th>\n",
       "      <th>Hour Ending</th>\n",
       "      <th>Maximum energy deliverable before curtailment (MWh)</th>\n",
       "      <th>Energy actually delivered (MWh)</th>\n",
       "      <th>Curtailment (MWh)</th>\n",
       "      <th>Price ($/MWh) at the nodal level in the Real Time market</th>\n",
       "      <th>Name</th>\n",
       "    </tr>\n",
       "  </thead>\n",
       "  <tbody>\n",
       "    <tr>\n",
       "      <th>0</th>\n",
       "      <td>2023-01-01 01:00:00</td>\n",
       "      <td>2023</td>\n",
       "      <td>1</td>\n",
       "      <td>1</td>\n",
       "      <td>1</td>\n",
       "      <td>2.0</td>\n",
       "      <td>0.0</td>\n",
       "      <td>2</td>\n",
       "      <td>26.25</td>\n",
       "      <td>Valentino</td>\n",
       "    </tr>\n",
       "    <tr>\n",
       "      <th>1</th>\n",
       "      <td>2023-01-01 02:00:00</td>\n",
       "      <td>2023</td>\n",
       "      <td>1</td>\n",
       "      <td>1</td>\n",
       "      <td>2</td>\n",
       "      <td>2.0</td>\n",
       "      <td>0.0</td>\n",
       "      <td>2</td>\n",
       "      <td>22.76</td>\n",
       "      <td>Valentino</td>\n",
       "    </tr>\n",
       "    <tr>\n",
       "      <th>2</th>\n",
       "      <td>2023-01-01 03:00:00</td>\n",
       "      <td>2023</td>\n",
       "      <td>1</td>\n",
       "      <td>1</td>\n",
       "      <td>3</td>\n",
       "      <td>2.0</td>\n",
       "      <td>0.0</td>\n",
       "      <td>2</td>\n",
       "      <td>21.94</td>\n",
       "      <td>Valentino</td>\n",
       "    </tr>\n",
       "    <tr>\n",
       "      <th>3</th>\n",
       "      <td>2023-01-01 04:00:00</td>\n",
       "      <td>2023</td>\n",
       "      <td>1</td>\n",
       "      <td>1</td>\n",
       "      <td>4</td>\n",
       "      <td>2.0</td>\n",
       "      <td>0.0</td>\n",
       "      <td>2</td>\n",
       "      <td>24.14</td>\n",
       "      <td>Valentino</td>\n",
       "    </tr>\n",
       "    <tr>\n",
       "      <th>4</th>\n",
       "      <td>2023-01-01 05:00:00</td>\n",
       "      <td>2023</td>\n",
       "      <td>1</td>\n",
       "      <td>1</td>\n",
       "      <td>5</td>\n",
       "      <td>2.0</td>\n",
       "      <td>0.0</td>\n",
       "      <td>2</td>\n",
       "      <td>23.14</td>\n",
       "      <td>Valentino</td>\n",
       "    </tr>\n",
       "  </tbody>\n",
       "</table>\n",
       "</div>"
      ],
      "text/plain": [
       "            Timestamp  Year  Month  Day  Hour Ending  \\\n",
       "0 2023-01-01 01:00:00  2023      1    1            1   \n",
       "1 2023-01-01 02:00:00  2023      1    1            2   \n",
       "2 2023-01-01 03:00:00  2023      1    1            3   \n",
       "3 2023-01-01 04:00:00  2023      1    1            4   \n",
       "4 2023-01-01 05:00:00  2023      1    1            5   \n",
       "\n",
       "   Maximum energy deliverable before curtailment (MWh)  \\\n",
       "0                                                2.0     \n",
       "1                                                2.0     \n",
       "2                                                2.0     \n",
       "3                                                2.0     \n",
       "4                                                2.0     \n",
       "\n",
       "   Energy actually delivered (MWh)  Curtailment (MWh)  \\\n",
       "0                              0.0                  2   \n",
       "1                              0.0                  2   \n",
       "2                              0.0                  2   \n",
       "3                              0.0                  2   \n",
       "4                              0.0                  2   \n",
       "\n",
       "   Price ($/MWh) at the nodal level in the Real Time market       Name  \n",
       "0                                              26.25         Valentino  \n",
       "1                                              22.76         Valentino  \n",
       "2                                              21.94         Valentino  \n",
       "3                                              24.14         Valentino  \n",
       "4                                              23.14         Valentino  "
      ]
     },
     "execution_count": 12,
     "metadata": {},
     "output_type": "execute_result"
    }
   ],
   "source": [
    "valentino.head()"
   ]
  },
  {
   "cell_type": "code",
   "execution_count": 6,
   "metadata": {},
   "outputs": [],
   "source": [
    "valentino['Name'] = 'Valentino'\n",
    "mantero['Name'] = 'Mantero'\n",
    "ventus_village['Name'] = 'Ventus Village'\n",
    "howling_gale['Name'] = 'Howling Gale'\n",
    "salmon_valley['Name'] = 'Salmon Valley'"
   ]
  },
  {
   "cell_type": "code",
   "execution_count": 10,
   "metadata": {},
   "outputs": [
    {
     "data": {
      "text/plain": [
       "Timestamp                                                    object\n",
       "Year                                                          int64\n",
       "Month                                                         int64\n",
       "Day                                                           int64\n",
       "Hour Ending                                                   int64\n",
       "Maximum energy deliverable before curtailment (MWh)         float64\n",
       "Energy actually delivered (MWh)                             float64\n",
       "Curtailment (MWh)                                             int64\n",
       "Price ($/MWh) at the nodal level in the Real Time market    float64\n",
       "Name                                                         object\n",
       "dtype: object"
      ]
     },
     "execution_count": 10,
     "metadata": {},
     "output_type": "execute_result"
    }
   ],
   "source": [
    "valentino.dtypes"
   ]
  },
  {
   "cell_type": "code",
   "execution_count": 13,
   "metadata": {},
   "outputs": [],
   "source": [
    "valentino['Timestamp'] = pd.to_datetime(valentino['Timestamp'])\n",
    "mantero['Timestamp'] = pd.to_datetime(mantero['Timestamp'])\n",
    "ventus_village['Timestamp'] = pd.to_datetime(ventus_village['Timestamp'])\n",
    "howling_gale['Timestamp'] = pd.to_datetime(howling_gale['Timestamp'])\n",
    "salmon_valley['Timestamp'] = pd.to_datetime(salmon_valley['Timestamp'])"
   ]
  },
  {
   "cell_type": "code",
   "execution_count": 14,
   "metadata": {},
   "outputs": [],
   "source": [
    "farms = [valentino, mantero, ventus_village, howling_gale, salmon_valley]"
   ]
  },
  {
   "cell_type": "code",
   "execution_count": 20,
   "metadata": {},
   "outputs": [
    {
     "data": {
      "text/html": [
       "<div>\n",
       "<style scoped>\n",
       "    .dataframe tbody tr th:only-of-type {\n",
       "        vertical-align: middle;\n",
       "    }\n",
       "\n",
       "    .dataframe tbody tr th {\n",
       "        vertical-align: top;\n",
       "    }\n",
       "\n",
       "    .dataframe thead th {\n",
       "        text-align: right;\n",
       "    }\n",
       "</style>\n",
       "<table border=\"1\" class=\"dataframe\">\n",
       "  <thead>\n",
       "    <tr style=\"text-align: right;\">\n",
       "      <th></th>\n",
       "      <th>Timestamp</th>\n",
       "      <th>Year</th>\n",
       "      <th>Month</th>\n",
       "      <th>Day</th>\n",
       "      <th>Hour Ending</th>\n",
       "      <th>Maximum energy deliverable before curtailment (MWh)</th>\n",
       "      <th>Energy actually delivered (MWh)</th>\n",
       "      <th>Curtailment (MWh)</th>\n",
       "      <th>Price ($/MWh) at the nodal level in the Real Time market</th>\n",
       "      <th>Name</th>\n",
       "    </tr>\n",
       "  </thead>\n",
       "  <tbody>\n",
       "    <tr>\n",
       "      <th>8755</th>\n",
       "      <td>2023-12-31 20:00:00</td>\n",
       "      <td>2023</td>\n",
       "      <td>12</td>\n",
       "      <td>31</td>\n",
       "      <td>20</td>\n",
       "      <td>0.0</td>\n",
       "      <td>0.0</td>\n",
       "      <td>0</td>\n",
       "      <td>20.86</td>\n",
       "      <td>Valentino</td>\n",
       "    </tr>\n",
       "    <tr>\n",
       "      <th>8756</th>\n",
       "      <td>2023-12-31 21:00:00</td>\n",
       "      <td>2023</td>\n",
       "      <td>12</td>\n",
       "      <td>31</td>\n",
       "      <td>21</td>\n",
       "      <td>0.0</td>\n",
       "      <td>0.0</td>\n",
       "      <td>0</td>\n",
       "      <td>19.32</td>\n",
       "      <td>Valentino</td>\n",
       "    </tr>\n",
       "    <tr>\n",
       "      <th>8757</th>\n",
       "      <td>2023-12-31 22:00:00</td>\n",
       "      <td>2023</td>\n",
       "      <td>12</td>\n",
       "      <td>31</td>\n",
       "      <td>22</td>\n",
       "      <td>0.0</td>\n",
       "      <td>0.0</td>\n",
       "      <td>0</td>\n",
       "      <td>25.40</td>\n",
       "      <td>Valentino</td>\n",
       "    </tr>\n",
       "    <tr>\n",
       "      <th>8758</th>\n",
       "      <td>2023-12-31 23:00:00</td>\n",
       "      <td>2023</td>\n",
       "      <td>12</td>\n",
       "      <td>31</td>\n",
       "      <td>23</td>\n",
       "      <td>0.0</td>\n",
       "      <td>0.0</td>\n",
       "      <td>0</td>\n",
       "      <td>41.29</td>\n",
       "      <td>Valentino</td>\n",
       "    </tr>\n",
       "    <tr>\n",
       "      <th>8759</th>\n",
       "      <td>2024-01-01 00:00:00</td>\n",
       "      <td>2023</td>\n",
       "      <td>12</td>\n",
       "      <td>31</td>\n",
       "      <td>24</td>\n",
       "      <td>0.0</td>\n",
       "      <td>0.0</td>\n",
       "      <td>0</td>\n",
       "      <td>30.58</td>\n",
       "      <td>Valentino</td>\n",
       "    </tr>\n",
       "  </tbody>\n",
       "</table>\n",
       "</div>"
      ],
      "text/plain": [
       "               Timestamp  Year  Month  Day  Hour Ending  \\\n",
       "8755 2023-12-31 20:00:00  2023     12   31           20   \n",
       "8756 2023-12-31 21:00:00  2023     12   31           21   \n",
       "8757 2023-12-31 22:00:00  2023     12   31           22   \n",
       "8758 2023-12-31 23:00:00  2023     12   31           23   \n",
       "8759 2024-01-01 00:00:00  2023     12   31           24   \n",
       "\n",
       "      Maximum energy deliverable before curtailment (MWh)  \\\n",
       "8755                                                0.0     \n",
       "8756                                                0.0     \n",
       "8757                                                0.0     \n",
       "8758                                                0.0     \n",
       "8759                                                0.0     \n",
       "\n",
       "      Energy actually delivered (MWh)  Curtailment (MWh)  \\\n",
       "8755                              0.0                  0   \n",
       "8756                              0.0                  0   \n",
       "8757                              0.0                  0   \n",
       "8758                              0.0                  0   \n",
       "8759                              0.0                  0   \n",
       "\n",
       "      Price ($/MWh) at the nodal level in the Real Time market       Name  \n",
       "8755                                              20.86         Valentino  \n",
       "8756                                              19.32         Valentino  \n",
       "8757                                              25.40         Valentino  \n",
       "8758                                              41.29         Valentino  \n",
       "8759                                              30.58         Valentino  "
      ]
     },
     "execution_count": 20,
     "metadata": {},
     "output_type": "execute_result"
    }
   ],
   "source": [
    "valentino.tail()"
   ]
  },
  {
   "cell_type": "code",
   "execution_count": null,
   "metadata": {},
   "outputs": [
    {
     "data": {
      "text/plain": [
       "<Axes: xlabel='Hour Ending', ylabel='Maximum energy deliverable before curtailment (MWh)'>"
      ]
     },
     "execution_count": 24,
     "metadata": {},
     "output_type": "execute_result"
    },
    {
     "data": {
      "image/png": "[encoded data removed]",
      "text/plain": [
       "<Figure size 1500x500 with 1 Axes>"
      ]
     },
     "metadata": {},
     "output_type": "display_data"
    }
   ],
   "source": [
    "fig = plt.figure(figsize=(15,5))\n",
    "# January:\n",
    "sns.boxplot(valentino[valentino['Month'] == 1], x='Hour Ending', y='Maximum energy deliverable before curtailment (MWh)')"
   ]
  },
  {
   "cell_type": "code",
   "execution_count": null,
   "metadata": {},
   "outputs": [],
   "source": []
  }
 ],
 "metadata": {
  "kernelspec": {
   "display_name": "Python 3",
   "language": "python",
   "name": "python3"
  },
  "language_info": {
   "codemirror_mode": {
    "name": "ipython",
    "version": 3
   },
   "file_extension": ".py",
   "mimetype": "text/x-python",
   "name": "python",
   "nbconvert_exporter": "python",
   "pygments_lexer": "ipython3",
   "version": "3.10.12"
  }
 },
 "nbformat": 4,
 "nbformat_minor": 2
}
